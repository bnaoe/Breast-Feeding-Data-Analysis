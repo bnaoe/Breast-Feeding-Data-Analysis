{
 "cells": [
  {
   "cell_type": "markdown",
   "metadata": {
    "toc": true
   },
   "source": [
    "<h1>Table of Contents<span class=\"tocSkip\"></span></h1>\n",
    "<div class=\"toc\"><ul class=\"toc-item\"><li><span><a href=\"#Overview\" data-toc-modified-id=\"Overview-1\"><span class=\"toc-item-num\">1&nbsp;&nbsp;</span>Overview</a></span></li><li><span><a href=\"#Data-Exploration\" data-toc-modified-id=\"Data-Exploration-2\"><span class=\"toc-item-num\">2&nbsp;&nbsp;</span>Data Exploration</a></span></li><li><span><a href=\"#Data-Preprocessing\" data-toc-modified-id=\"Data-Preprocessing-3\"><span class=\"toc-item-num\">3&nbsp;&nbsp;</span>Data Preprocessing</a></span><ul class=\"toc-item\"><li><span><a href=\"#Data-Visualization\" data-toc-modified-id=\"Data-Visualization-3.1\"><span class=\"toc-item-num\">3.1&nbsp;&nbsp;</span>Data Visualization</a></span><ul class=\"toc-item\"><li><span><a href=\"#Demographics-Visualization\" data-toc-modified-id=\"Demographics-Visualization-3.1.1\"><span class=\"toc-item-num\">3.1.1&nbsp;&nbsp;</span>Demographics Visualization</a></span></li><li><span><a href=\"#Ethnicity-and-Race-Visualziation\" data-toc-modified-id=\"Ethnicity-and-Race-Visualziation-3.1.2\"><span class=\"toc-item-num\">3.1.2&nbsp;&nbsp;</span>Ethnicity and Race Visualziation</a></span></li><li><span><a href=\"#Feeding-Type-Visualization\" data-toc-modified-id=\"Feeding-Type-Visualization-3.1.3\"><span class=\"toc-item-num\">3.1.3&nbsp;&nbsp;</span>Feeding Type Visualization</a></span></li><li><span><a href=\"#Transforming-Feeding-Type-Data\" data-toc-modified-id=\"Transforming-Feeding-Type-Data-3.1.4\"><span class=\"toc-item-num\">3.1.4&nbsp;&nbsp;</span>Transforming Feeding Type Data</a></span></li><li><span><a href=\"#Initial-Feeding-Visualization\" data-toc-modified-id=\"Initial-Feeding-Visualization-3.1.5\"><span class=\"toc-item-num\">3.1.5&nbsp;&nbsp;</span>Initial Feeding Visualization</a></span></li></ul></li></ul></li><li><span><a href=\"#Initial-Feeding-ECDF\" data-toc-modified-id=\"Initial-Feeding-ECDF-4\"><span class=\"toc-item-num\">4&nbsp;&nbsp;</span>Initial Feeding ECDF</a></span></li></ul></div>"
   ]
  },
  {
   "cell_type": "markdown",
   "metadata": {},
   "source": [
    "# Data Exploration Breast Feeding Data\n",
    "Analysis done by: Brian Naoe\n",
    "Contact Email: bp.naoe@me.com\n",
    "\n",
    "A short data analysis for breast feeding data to gain statistical insights.  "
   ]
  },
  {
   "cell_type": "markdown",
   "metadata": {},
   "source": [
    "<a id='Overview'></a>\n",
    "## Overview\n",
    "\n",
    "Early initiation of breastfeeding, within one hour of birth is recommended by WHO. Although it is one of the core indicators for assessing infant and young child feeding practices, it is a far from universal practice. Data from 2002-2005 show that 46 low- and middle-income countries (LMIC) had included early initiation of breastfeeding in Demographic Health Surveys. Of these, 54% recorded that less than half of all new-borns were put to the breast within an hour of birth. Furthermore, no country had more than 80% of babies breastfeeding within an hour of birth. Global estimates are that less than half (42%) of all newborns are put to the breast within the first hour of birth.\n",
    "\n",
    "Reference: Shrimpton, R. (2017).Early initiation of breastfeeding. Retrieved from https://www.who.int/elena/titles/commentary/early_breastfeeding/en/\n"
   ]
  },
  {
   "cell_type": "code",
   "execution_count": null,
   "metadata": {
    "cell_style": "center"
   },
   "outputs": [],
   "source": [
    "import pandas as pd\n",
    "import numpy as np\n",
    "import matplotlib.pyplot as plt\n",
    "import seaborn as sns\n",
    "sns.set()"
   ]
  },
  {
   "cell_type": "markdown",
   "metadata": {},
   "source": [
    "## Data Exploration\n",
    "\n",
    "A 2017 data have been used for this data analysis. The data contains information about the breast feeding events during the mother's admission."
   ]
  },
  {
   "cell_type": "code",
   "execution_count": null,
   "metadata": {
    "scrolled": true
   },
   "outputs": [],
   "source": [
    "raw_data = pd.read_csv('Breast_feed.csv')\n",
    "df = raw_data.copy()\n",
    "df.head()"
   ]
  },
  {
   "cell_type": "markdown",
   "metadata": {},
   "source": [
    "## Data Preprocessing\n",
    "Grouped rows with the same event date and time for the the same encounter. Each encounter has multiple rows for multiple breast feeding events during the admission."
   ]
  },
  {
   "cell_type": "code",
   "execution_count": null,
   "metadata": {},
   "outputs": [],
   "source": [
    "df_group = df.groupby(['pid','event_dt_tm']).first().reset_index()\n",
    "df_group.head()"
   ]
  },
  {
   "cell_type": "code",
   "execution_count": null,
   "metadata": {},
   "outputs": [],
   "source": [
    "#Investigating the null values\n",
    "df_group.info()"
   ]
  },
  {
   "cell_type": "markdown",
   "metadata": {},
   "source": [
    "### Data Visualization"
   ]
  },
  {
   "cell_type": "markdown",
   "metadata": {},
   "source": [
    "#### Demographics Visualization"
   ]
  },
  {
   "cell_type": "code",
   "execution_count": null,
   "metadata": {},
   "outputs": [],
   "source": [
    "df_group_mrn = df.groupby('pid').first().reset_index()\n",
    "df_group_mrn"
   ]
  },
  {
   "cell_type": "markdown",
   "metadata": {},
   "source": [
    "#### Ethnicity and Race Visualziation"
   ]
  },
  {
   "cell_type": "code",
   "execution_count": null,
   "metadata": {},
   "outputs": [],
   "source": [
    "df_ethnicity = df_group_mrn[['ethnicity','race']]\n",
    "df_ethnicity.head()"
   ]
  },
  {
   "cell_type": "code",
   "execution_count": null,
   "metadata": {},
   "outputs": [],
   "source": [
    "# looking at ethnicity and race population\n",
    "plt.figure(figsize=(20,5))\n",
    "sns.countplot(x='ethnicity', hue='race', data=df_ethnicity, edgecolor=(0,0,0), palette='pastel')\n",
    "# Rotate\n",
    "plt.xticks(rotation=-45)\n",
    "plt.show()"
   ]
  },
  {
   "cell_type": "markdown",
   "metadata": {},
   "source": [
    "#### Feeding Type Visualization"
   ]
  },
  {
   "cell_type": "code",
   "execution_count": null,
   "metadata": {},
   "outputs": [],
   "source": [
    "# looking at unique values for feeding type\n",
    "df_group['newborn_feeding_type'].unique()"
   ]
  },
  {
   "cell_type": "code",
   "execution_count": null,
   "metadata": {},
   "outputs": [],
   "source": [
    "df_group['newborn_feeding_type'].count()"
   ]
  },
  {
   "cell_type": "markdown",
   "metadata": {},
   "source": [
    "#### Transforming Feeding Type Data \n",
    "There are too many re-occuring unique values for feeding time that can be transformed into several feeding types. This due to users documenting different feeding types that mothers take during feeding.   "
   ]
  },
  {
   "cell_type": "code",
   "execution_count": null,
   "metadata": {},
   "outputs": [],
   "source": [
    "dic = {'Breast milk, Formula,':'Breast milk, Formula','Breast milk, Other:':'Breast milk','Fortified breast milk, Other:':'Fortified breast milk',\n",
    "      'Formula, Fortified breast milk, Other:':'Formula, Fortified breast milk','SIMILAC':'Similac', 'Formula, Other:':'Formula', 'Other':'Other'}\n",
    "\n",
    "df_feed = df_group.copy()\n",
    "\n",
    "for k, v in dic.items():\n",
    "    df_feed['newborn_feeding_type'] = np.where(df_feed['newborn_feeding_type'].str.contains(k, case=False),v, df_feed['newborn_feeding_type'])    \n",
    "    \n",
    "df_unique_feed = df_feed['newborn_feeding_type'].value_counts()\n",
    "df_unique_feed = df_unique_feed.rename_axis('unique_values').reset_index(name='counts')\n",
    "df_unique_feed"
   ]
  },
  {
   "cell_type": "code",
   "execution_count": null,
   "metadata": {},
   "outputs": [],
   "source": [
    "plt.figure(figsize=(20,5))\n",
    "sns.countplot(x='newborn_feeding_type', data=df_feed, edgecolor=(0,0,0), palette='pastel')\n",
    "# Rotate xticks\n",
    "plt.xticks(rotation=-45)\n",
    "plt.show()"
   ]
  },
  {
   "cell_type": "markdown",
   "metadata": {},
   "source": [
    "#### Initial Feeding Visualization\n",
    "We want to see what percentage of the patient population are feeding with in 1 hour after birth."
   ]
  },
  {
   "cell_type": "code",
   "execution_count": null,
   "metadata": {},
   "outputs": [],
   "source": [
    "# Transformed the index to have a multi-index using pid and event_dt_tm to get the initial feeding event dt tm\n",
    "df_sort_feed = df_feed.copy()\n",
    "df_sort_feed['event_dt_tm'] = pd.to_datetime(df_sort_feed['event_dt_tm'])\n",
    "df_sort_feed.set_index(['pid','event_dt_tm'], drop=True, append=False, inplace=True, verify_integrity=False)\n",
    "df_sort_feed = df_sort_feed.sort_index()\n",
    "df_sort_feed"
   ]
  },
  {
   "cell_type": "code",
   "execution_count": null,
   "metadata": {},
   "outputs": [],
   "source": [
    "# grouped rows and took the 1st row to isolate the first feeding per newborn.\n",
    "df_first_feed = df_sort_feed.groupby(level=0).apply(lambda x: x.iloc[0:1])\n",
    "df_first_feed.index = df_first_feed.index.droplevel(0)\n",
    "df_first_feed"
   ]
  },
  {
   "cell_type": "code",
   "execution_count": null,
   "metadata": {},
   "outputs": [],
   "source": [
    "df_first_feed.info()"
   ]
  },
  {
   "cell_type": "code",
   "execution_count": null,
   "metadata": {},
   "outputs": [],
   "source": [
    "# Categorized first feeding event by less than 1 hour, >1 to 4 hours, > 4 hours\n",
    "df_first_feed.dropna(subset=['birth_to_event_hrs'], how='all', inplace=True)\n",
    "df_first_feed.loc[df_first_feed['birth_to_event_hrs'] <= 1, 'FIRST_FEED'] = '<=1 HR'\n",
    "df_first_feed.loc[(df_first_feed['birth_to_event_hrs'] >= 1) & (df_first_feed['birth_to_event_hrs'] <= 4), 'FIRST_FEED'] = '>1 to 4 HRS'\n",
    "df_first_feed.loc[df_first_feed['birth_to_event_hrs'] > 4, 'FIRST_FEED'] = '>4 HRS'\n",
    "\n",
    "df_first_feed"
   ]
  },
  {
   "cell_type": "code",
   "execution_count": null,
   "metadata": {},
   "outputs": [],
   "source": [
    "# removed rows with 0 to less than 0 birth to event in hours\n",
    "df_first_feed = df_first_feed[df_first_feed['birth_to_event_hrs']>0]\n",
    "df_first_feed.head()"
   ]
  },
  {
   "cell_type": "code",
   "execution_count": null,
   "metadata": {},
   "outputs": [],
   "source": [
    "# Visualization using swarmplot showing patient population first feeding in hours grouped by feeding type. \n",
    "plt.figure(figsize=(20,10))\n",
    "sns.swarmplot(x=\"newborn_feeding_type\", y=\"birth_to_event_hrs\", data=df_first_feed)\n",
    "plt.yticks([0,5,10,15,20,25,30,35,40])\n",
    "plt.ylabel(\"FIRST FEED IN HRS\")\n",
    "plt.xticks(rotation=-45)\n",
    "\n",
    "plt.show()"
   ]
  },
  {
   "cell_type": "markdown",
   "metadata": {},
   "source": [
    "## Initial Feeding ECDF"
   ]
  },
  {
   "cell_type": "code",
   "execution_count": null,
   "metadata": {},
   "outputs": [],
   "source": [
    "# ECDF function\n",
    "def ecdf(data):\n",
    "\n",
    "    # Number of data points: n\n",
    "    n = len(data)\n",
    "\n",
    "    # x-data for the ECDF: x\n",
    "    x = np.sort(data)\n",
    "\n",
    "    # y-data for the ECDF: y\n",
    "    y = np.arange(1, n+1) / n\n",
    "\n",
    "    return x, y"
   ]
  },
  {
   "cell_type": "code",
   "execution_count": null,
   "metadata": {},
   "outputs": [],
   "source": [
    "# Compute ECDF\n",
    "x, y = ecdf(df_first_feed['birth_to_event_hrs'])\n",
    "\n",
    "# Generate plot\n",
    "plt.figure(figsize=(20,10))\n",
    "plt.yticks([0,.05,.10,.15,.20,.25,.30,.35,.40,.45,.50,.55,.60,.65,.70,.75,.80,.85,.90,.95,1])\n",
    "_ = plt.plot(x, y, marker = '.', linestyle = 'none')\n",
    "\n",
    "# Make the margins\n",
    "plt.margins(0.02)\n",
    "\n",
    "_ = plt.xlabel('birth_to_event_hrs')\n",
    "_ = plt.ylabel('ECDF')\n",
    "\n",
    "\n",
    "# Specify array of percentiles: percentiles\n",
    "percentiles = np.array([10, 25, 50, 75, 97.5])\n",
    "\n",
    "# Compute percentiles: ptiles_vers\n",
    "ptiles = np.percentile(df_first_feed['birth_to_event_hrs'], percentiles)\n",
    "\n",
    "# Overlay percentiles as red diamonds.\n",
    "_ = plt.plot(ptiles, percentiles / 100, marker='D', color='red',\n",
    "             linestyle='none')\n",
    "\n",
    "\n",
    "# zip joins x and y coordinates in pairs\n",
    "for x,y in zip(ptiles,percentiles / 100):\n",
    "\n",
    "    label = \"{:.2f}\".format(y)\n",
    "\n",
    "    plt.annotate(label, # this is the text\n",
    "                 (x,y), # this is the point to label\n",
    "                 textcoords=\"offset points\", # how to position the text\n",
    "                 xytext=(0,10), # distance from text to points (x,y)\n",
    "                 ha='left') # horizontal alignment can be left, right or center\n",
    "plt.show()  "
   ]
  },
  {
   "cell_type": "markdown",
   "metadata": {},
   "source": [
    "The ECDF shows that in 2017, 10% of the mothers breast fed within 1 hour from the birth of the newborn."
   ]
  }
 ],
 "metadata": {
  "hide_input": false,
  "kernelspec": {
   "display_name": "Python 3",
   "language": "python",
   "name": "python3"
  },
  "language_info": {
   "codemirror_mode": {
    "name": "ipython",
    "version": 3
   },
   "file_extension": ".py",
   "mimetype": "text/x-python",
   "name": "python",
   "nbconvert_exporter": "python",
   "pygments_lexer": "ipython3",
   "version": "3.7.3"
  },
  "toc": {
   "base_numbering": 1,
   "nav_menu": {},
   "number_sections": true,
   "sideBar": true,
   "skip_h1_title": true,
   "title_cell": "Table of Contents",
   "title_sidebar": "Contents",
   "toc_cell": true,
   "toc_position": {
    "height": "calc(100% - 180px)",
    "left": "10px",
    "top": "150px",
    "width": "307.2px"
   },
   "toc_section_display": true,
   "toc_window_display": false
  },
  "varInspector": {
   "cols": {
    "lenName": 16,
    "lenType": 16,
    "lenVar": 40
   },
   "kernels_config": {
    "python": {
     "delete_cmd_postfix": "",
     "delete_cmd_prefix": "del ",
     "library": "var_list.py",
     "varRefreshCmd": "print(var_dic_list())"
    },
    "r": {
     "delete_cmd_postfix": ") ",
     "delete_cmd_prefix": "rm(",
     "library": "var_list.r",
     "varRefreshCmd": "cat(var_dic_list()) "
    }
   },
   "types_to_exclude": [
    "module",
    "function",
    "builtin_function_or_method",
    "instance",
    "_Feature"
   ],
   "window_display": false
  },
  "widgets": {
   "application/vnd.jupyter.widget-state+json": {
    "state": {},
    "version_major": 2,
    "version_minor": 0
   }
  }
 },
 "nbformat": 4,
 "nbformat_minor": 2
}
